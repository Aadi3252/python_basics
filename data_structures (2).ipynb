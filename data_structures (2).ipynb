{
  "nbformat": 4,
  "nbformat_minor": 0,
  "metadata": {
    "colab": {
      "provenance": []
    },
    "kernelspec": {
      "name": "python3",
      "display_name": "Python 3"
    },
    "language_info": {
      "name": "python"
    }
  },
  "cells": [
    {
      "cell_type": "code",
      "execution_count": 4,
      "metadata": {
        "id": "-Zxm_jptF8MQ"
      },
      "outputs": [],
      "source": []
    },
    {
      "cell_type": "markdown",
      "source": [
        "Q1 What are data structures, and why are they important?\n",
        "\n",
        "Data structures are ways to organize, store, and manage data efficiently for specific tasks. They provide frameworks for storing data in memory, enabling efficient access, modification, and retrieval. Examples include lists, arrays, dictionaries, sets, and tuples. They are important because they optimize performance, reduce complexity, and improve scalability in algorithms and applications by choosing the right structure for the task (e.g., fast lookups with dictionaries or ordered data with lists).\n",
        "\n",
        "Q2 Explain the difference between mutable and immutable data types with examples.\n",
        "\n",
        "Mutable: Can be modified after creation. Changes affect the same object in memory.\n",
        "Example: Lists ([1, 2, 3]), dictionaries ({'key': 'value'}), sets ({1, 2, 3}). You can append to a list or update a dictionary.\n",
        "Immutable: Cannot be modified after creation. Any change creates a new object.\n",
        "Example: Strings (\"hello\"), tuples ((1, 2, 3)), integers (5). Changing a string creates a new string.\n",
        "\n",
        "\n",
        "Q3 What are the main differences between lists and tuples in Python?\n",
        "\n",
        "Mutability: Lists are mutable (can be changed), tuples are immutable (cannot be changed).\n",
        "Syntax: Lists use square brackets [ ], tuples use parentheses ( ).\n",
        "Performance: Tuples are slightly faster due to immutability.\n",
        "Use Case: Lists for dynamic data, tuples for fixed data or ensuring integrity.\n",
        "Methods: Lists have methods like append(), remove(); tuples have fewer methods (e.g., count(), index()).\n",
        "\n",
        "Q4Describe how dictionaries store data.\n",
        "\n",
        "Dictionaries in Python store data as key-value pairs, where each key is unique and mapped to a value. They use a hash table internally, where keys are hashed to generate an index, allowing fast lookups. Data is stored in an unordered manner (though since Python 3.7, insertion order is preserved). Example: {'name': 'Alice', 'age': 25}.\n",
        "\n",
        "Q5 Why might you use a set instead of a list in Python?\n",
        "\n",
        "Use a set when you need unique elements (no duplicates) and fast membership testing (in operation). Sets are optimized for operations like union, intersection, and difference, and they don’t maintain order. Lists are better for ordered, index-based access or when duplicates are allowed. Example: Use a set to store unique user IDs, not a list.\n",
        "\n",
        "Q6 What is a string in Python, and how is it different from a list?\n",
        "\n",
        "A string is an immutable sequence of characters (e.g., \"hello\"). A list is a mutable sequence of elements of any type (e.g., [1, \"hello\", 3.14]). Strings support character-specific operations (e.g., upper(), split()), while lists support general sequence operations (e.g., append(), pop()). Strings are immutable, so modifying them creates a new string; lists can be modified in place.\n",
        "\n",
        "Q7 How do tuples ensure data integrity in Python?\n",
        "\n",
        "Tuples are immutable, meaning their elements cannot be modified, added, or removed after creation. This ensures data remains consistent and prevents accidental changes, making tuples ideal for fixed data like coordinates or configuration settings. Their immutability also makes them hashable, suitable as dictionary keys or set elements.\n",
        "\n",
        "Q8 What is a hash table, and how does it relate to dictionaries in Python?\n",
        "\n",
        "A hash table is a data structure that maps keys to values using a hash function to compute an index for fast access. Python dictionaries are implemented as hash tables, where keys are hashed to store and retrieve values efficiently. This enables O(1) average-case time complexity for lookups, inserts, and deletions.\n",
        "\n",
        "Q9 Can lists contain different data types in Python?\n",
        "\n",
        "Yes, lists in Python can contain elements of different data types, such as integers, strings, floats, or even other lists. Example: [1, \"hello\", 3.14, [2, 3]].\n",
        "\n",
        "Q10 Explain why strings are immutable in Python.\n",
        "\n",
        "Strings are immutable to ensure consistency, efficiency, and safety. Immutability allows strings to be used as dictionary keys (hashable) and prevents unintended changes in multi-threaded environments. Modifying a string creates a new object, preserving the original. This design choice optimizes memory and performance for frequent string operations.\n",
        "\n",
        "Q11 What advantages do dictionaries offer over lists for certain tasks?\n",
        "\n",
        "\n",
        "Fast Lookups: Dictionaries provide O(1) average-case access via keys, unlike lists (O(n) for searching).\n",
        "Key-Value Mapping: Ideal for associating data (e.g., {'name': 'Alice'}), unlike lists’ index-based access.\n",
        "Flexibility: Keys can be any hashable type, not just integers.\n",
        "Use Case: Dictionaries are better for lookups, like storing user data by ID, while lists are better for ordered sequences.\n",
        "\n",
        "Q12 Describe a scenario where using a tuple would be preferable over a list.\n",
        "\n",
        "Use a tuple for fixed, immutable data, like representing a point in 2D space (x, y) (e.g., (3, 4)). Tuples ensure coordinates aren’t accidentally modified and can be used as dictionary keys due to their hashability, unlike lists, which are mutable and better for dynamic data.\n",
        "\n",
        "Q13 How do sets handle duplicate values in Python?\n",
        "\n",
        "Sets automatically eliminate duplicates by storing only unique elements. When adding an element already in the set, it’s ignored. Example: set([1, 2, 2, 3]) results in {1, 2, 3}.\n",
        "\n",
        "Q14  How does the “in” keyword work differently for lists and dictionaries?\n",
        "\n",
        "Lists: The in keyword checks if an element exists in the list, performing a linear search (O(n)). Example: 3 in [1, 2, 3] checks for the value 3.\n",
        "Dictionaries: The in keyword checks if a key exists, using a hash table for O(1) average-case lookup. Example: 'key' in {'key': 'value'} checks for the key 'key'.\n",
        "\n",
        "Q15 Can you modify the elements of a tuple? Explain why or why not.\n",
        "\n",
        "No, tuple elements cannot be modified because tuples are immutable. Once created, their size and contents are fixed to ensure data integrity and hashability. Any attempt to modify a tuple (e.g., t[0] = 1) raises a TypeError.\n",
        "\n",
        "Q16 What is a nested dictionary, and give an example of its use case?\n",
        "\n",
        "A nested dictionary is a dictionary containing other dictionaries as values."
      ],
      "metadata": {
        "id": "mnJ2G5oUF9ai"
      }
    },
    {
      "cell_type": "code",
      "source": [
        "students = {\n",
        "    'John': {'age': 20, 'grade': 'A'},\n",
        "    'Alice': {'age': 19, 'grade': 'B'}\n",
        "}"
      ],
      "metadata": {
        "id": "vSZn0DLqNpX1"
      },
      "execution_count": 5,
      "outputs": []
    },
    {
      "cell_type": "markdown",
      "source": [
        "Q17 Describe the time complexity of accessing elements in a dictionary.\n",
        "\n",
        "Accessing elements in a dictionary (by key) has an average-case time complexity of O(1) due to the underlying hash table. In rare cases of hash collisions, it may degrade to O(n), but this is uncommon.\n",
        "\n",
        "Q18  In what situations are lists preferred over dictionaries?\n",
        "\n",
        "\n",
        "When order matters (lists maintain insertion order).\n",
        "When data is accessed by index, not key.\n",
        "When duplicates are allowed.\n",
        "When storing simple sequences (e.g., [1, 2, 3]).\n",
        "Example: Storing a sequence of user actions in order, like ['click', 'scroll', 'click'].\n",
        "\n",
        "Q19  Why are dictionaries considered unordered, and how does that affect data retrieval?\n",
        "\n",
        "\n",
        "Dictionaries are considered unordered because, historically (pre-Python 3.7), their key-value pairs were not guaranteed to maintain insertion order. Since Python 3.7, dictionaries preserve insertion order, but they are still not indexed like lists. This affects retrieval: you access values by keys (not indices), and iteration follows insertion order, not a sorted or arbitrary order.\n",
        "\n",
        "Q20 Explain the difference between a list and a dictionary in terms of data retrieval.\n",
        "\n",
        "List: Retrieves elements by integer index (e.g., lst[0]), with O(1) time complexity for direct access. Suitable for ordered sequences.\n",
        "Dictionary: Retrieves values by key (e.g., dict['key']), with O(1) average-case time complexity using hash tables. Suitable for key-value mappings.\n",
        "\n"
      ],
      "metadata": {
        "id": "ilNHPdYVNt3X"
      }
    },
    {
      "cell_type": "code",
      "source": [
        "#Write a code to create a string with your name and print it.\n",
        "name = \"John\"\n",
        "print(name)"
      ],
      "metadata": {
        "colab": {
          "base_uri": "https://localhost:8080/"
        },
        "id": "eBiztddKO6Nm",
        "outputId": "ab7440fe-7e52-4144-9c0b-2c51c0b1136b"
      },
      "execution_count": 6,
      "outputs": [
        {
          "output_type": "stream",
          "name": "stdout",
          "text": [
            "John\n"
          ]
        }
      ]
    },
    {
      "cell_type": "code",
      "source": [
        "#Write a code to find the length of the string \"Hello World\".\n",
        "s = \"Hello World\"\n",
        "print(len(s))  # Output: 11"
      ],
      "metadata": {
        "colab": {
          "base_uri": "https://localhost:8080/"
        },
        "id": "QIAXSoYWPEAF",
        "outputId": "e53b50ad-4241-4a7d-f635-8eedf4fdb270"
      },
      "execution_count": 7,
      "outputs": [
        {
          "output_type": "stream",
          "name": "stdout",
          "text": [
            "11\n"
          ]
        }
      ]
    },
    {
      "cell_type": "code",
      "source": [
        "#Write a code to slice the first 3 characters from the string \"Python Programming\".\n",
        "s = \"Python Programming\"\n",
        "print(s[:3])  # Output: Pyt"
      ],
      "metadata": {
        "colab": {
          "base_uri": "https://localhost:8080/"
        },
        "id": "OMNoZlUpPQyz",
        "outputId": "27cd7cd5-dd44-48b5-ad43-749d04188f5a"
      },
      "execution_count": 8,
      "outputs": [
        {
          "output_type": "stream",
          "name": "stdout",
          "text": [
            "Pyt\n"
          ]
        }
      ]
    },
    {
      "cell_type": "code",
      "source": [
        "#Write a code to convert the string \"hello\" to uppercase\n",
        "s = \"hello\"\n",
        "print(s.upper())  # Output: HELLO"
      ],
      "metadata": {
        "colab": {
          "base_uri": "https://localhost:8080/"
        },
        "id": "oUey6DfNPYjA",
        "outputId": "f0a93a87-0ebe-45da-978f-3e2c492c6ca7"
      },
      "execution_count": 9,
      "outputs": [
        {
          "output_type": "stream",
          "name": "stdout",
          "text": [
            "HELLO\n"
          ]
        }
      ]
    },
    {
      "cell_type": "code",
      "source": [
        "#Write a code to replace the word \"apple\" with \"orange\" in the string \"I like apple\"\n",
        "s = \"I like apple\"\n",
        "print(s.replace(\"apple\", \"orange\"))  # Output: I like orange"
      ],
      "metadata": {
        "colab": {
          "base_uri": "https://localhost:8080/"
        },
        "id": "B5rhE5n1Pi0M",
        "outputId": "188c6b67-1e59-4fb3-f264-22f866cd9d59"
      },
      "execution_count": 10,
      "outputs": [
        {
          "output_type": "stream",
          "name": "stdout",
          "text": [
            "I like orange\n"
          ]
        }
      ]
    },
    {
      "cell_type": "code",
      "source": [
        "#Write a code to create a list with numbers 1 to 5 and print it\n",
        "lst = [1, 2, 3, 4, 5]\n",
        "print(lst)  # Output: [1, 2, 3, 4, 5]\n"
      ],
      "metadata": {
        "colab": {
          "base_uri": "https://localhost:8080/"
        },
        "id": "tBM9CUU1PsKt",
        "outputId": "7c1569fa-d65a-4389-f212-3534de38484c"
      },
      "execution_count": 11,
      "outputs": [
        {
          "output_type": "stream",
          "name": "stdout",
          "text": [
            "[1, 2, 3, 4, 5]\n"
          ]
        }
      ]
    },
    {
      "cell_type": "code",
      "source": [
        "#Write a code to append the number 10 to the list [1, 2, 3, 4].\n",
        "lst = [1, 2, 3, 4]\n",
        "lst.append(10)\n",
        "print(lst)  # Output: [1, 2, 3, 4, 10]"
      ],
      "metadata": {
        "colab": {
          "base_uri": "https://localhost:8080/"
        },
        "id": "3RlGxlDcP3i7",
        "outputId": "2468ee2b-e42a-4192-a9ac-dbfcb0716f48"
      },
      "execution_count": 12,
      "outputs": [
        {
          "output_type": "stream",
          "name": "stdout",
          "text": [
            "[1, 2, 3, 4, 10]\n"
          ]
        }
      ]
    },
    {
      "cell_type": "code",
      "source": [
        "#Write a code to remove the number 3 from the list [1, 2, 3, 4, 5].\n",
        "lst = [1, 2, 3, 4, 5]\n",
        "lst.remove(3)\n",
        "print(lst)  # Output: [1, 2, 4, 5]"
      ],
      "metadata": {
        "colab": {
          "base_uri": "https://localhost:8080/"
        },
        "id": "hdLXqQI5P_uv",
        "outputId": "f66750d7-5c1a-4a5a-c933-876a3c598375"
      },
      "execution_count": 13,
      "outputs": [
        {
          "output_type": "stream",
          "name": "stdout",
          "text": [
            "[1, 2, 4, 5]\n"
          ]
        }
      ]
    },
    {
      "cell_type": "code",
      "source": [
        "#Write a code to access the second element in the list ['a', 'b', 'c', 'd']\n",
        "lst = ['a', 'b', 'c', 'd']\n",
        "print(lst[1])  # Output: b"
      ],
      "metadata": {
        "colab": {
          "base_uri": "https://localhost:8080/"
        },
        "id": "9KBAOBQGQIoc",
        "outputId": "3815f213-3ec9-4a58-8a57-77868c1bd0d1"
      },
      "execution_count": 14,
      "outputs": [
        {
          "output_type": "stream",
          "name": "stdout",
          "text": [
            "b\n"
          ]
        }
      ]
    },
    {
      "cell_type": "code",
      "source": [
        "#Write a code to reverse the list [10, 20, 30, 40, 50].\n",
        "lst = [10, 20, 30, 40, 50]\n",
        "lst.reverse()\n",
        "print(lst)  # Output: [50, 40, 30, 20, 10]"
      ],
      "metadata": {
        "colab": {
          "base_uri": "https://localhost:8080/"
        },
        "id": "ftUaqLgPQX0k",
        "outputId": "9a967e8d-4bab-42e2-cbb9-4a8df212e3cc"
      },
      "execution_count": 15,
      "outputs": [
        {
          "output_type": "stream",
          "name": "stdout",
          "text": [
            "[50, 40, 30, 20, 10]\n"
          ]
        }
      ]
    },
    {
      "cell_type": "code",
      "source": [
        "#Write a code to create a tuple with the elements 100, 200, 300 and print it.\n",
        "t = (100, 200, 300)\n",
        "print(t)  # Output: (100, 200, 300)"
      ],
      "metadata": {
        "colab": {
          "base_uri": "https://localhost:8080/"
        },
        "id": "WFDEpXrSQhXV",
        "outputId": "dba50a4a-b974-4079-ecc0-b35e7ceec773"
      },
      "execution_count": 16,
      "outputs": [
        {
          "output_type": "stream",
          "name": "stdout",
          "text": [
            "(100, 200, 300)\n"
          ]
        }
      ]
    },
    {
      "cell_type": "code",
      "source": [
        "#Write a code to access the second-to-last element of the tuple ('red', 'green', 'blue', 'yellow').\n",
        "t = ('red', 'green', 'blue', 'yellow')\n",
        "print(t[-2])  # Output: blue"
      ],
      "metadata": {
        "colab": {
          "base_uri": "https://localhost:8080/"
        },
        "id": "rDODiHTiQtvy",
        "outputId": "a053df56-369c-4d43-bb24-c7fe55e5e8a1"
      },
      "execution_count": 17,
      "outputs": [
        {
          "output_type": "stream",
          "name": "stdout",
          "text": [
            "blue\n"
          ]
        }
      ]
    },
    {
      "cell_type": "code",
      "source": [
        "#Write a code to find the minimum number in the tuple (10, 20, 5, 15).\n",
        "t = (10, 20, 5, 15)\n",
        "print(min(t))  # Output: 5"
      ],
      "metadata": {
        "colab": {
          "base_uri": "https://localhost:8080/"
        },
        "id": "7PVZt0XRQ0F8",
        "outputId": "5298166d-4a81-4525-e32b-fdafa18c2251"
      },
      "execution_count": 18,
      "outputs": [
        {
          "output_type": "stream",
          "name": "stdout",
          "text": [
            "5\n"
          ]
        }
      ]
    },
    {
      "cell_type": "code",
      "source": [
        "#Write a code to find the index of the element \"cat\" in the tuple ('dog', 'cat', 'rabbit').\n",
        "t = ('dog', 'cat', 'rabbit')\n",
        "print(t.index('cat'))  # Output: 1"
      ],
      "metadata": {
        "colab": {
          "base_uri": "https://localhost:8080/"
        },
        "id": "KGGbOKReQ7B-",
        "outputId": "62bf30db-b635-40d7-c309-4152903925cd"
      },
      "execution_count": 19,
      "outputs": [
        {
          "output_type": "stream",
          "name": "stdout",
          "text": [
            "1\n"
          ]
        }
      ]
    },
    {
      "cell_type": "code",
      "source": [
        "#Write a code to create a tuple containing three different fruits and check if \"kiwi\" is in it.\n",
        "fruits = ('apple', 'banana', 'orange')\n",
        "print('kiwi' in fruits)  # Output: False"
      ],
      "metadata": {
        "colab": {
          "base_uri": "https://localhost:8080/"
        },
        "id": "DM47EicVRPm0",
        "outputId": "40886000-3643-4290-dab6-2a76add8dded"
      },
      "execution_count": 20,
      "outputs": [
        {
          "output_type": "stream",
          "name": "stdout",
          "text": [
            "False\n"
          ]
        }
      ]
    },
    {
      "cell_type": "code",
      "source": [
        "#Write a code to create a set with the elements 'a', 'b', 'c' and print it.\n",
        "s = {'a', 'b', 'c'}\n",
        "print(s)  # Output: {'a', 'b', 'c'}"
      ],
      "metadata": {
        "colab": {
          "base_uri": "https://localhost:8080/"
        },
        "id": "clDWM7qRRXRY",
        "outputId": "70f4a2ff-20d9-47c5-a5ba-ba614dab4789"
      },
      "execution_count": 21,
      "outputs": [
        {
          "output_type": "stream",
          "name": "stdout",
          "text": [
            "{'c', 'b', 'a'}\n"
          ]
        }
      ]
    },
    {
      "cell_type": "code",
      "source": [
        "#Write a code to clear all elements from the set {1, 2, 3, 4, 5}.\n",
        "s = {1, 2, 3, 4, 5}\n",
        "s.clear()\n",
        "print(s)  # Output: set()"
      ],
      "metadata": {
        "colab": {
          "base_uri": "https://localhost:8080/"
        },
        "id": "1xEhW6nsRf8B",
        "outputId": "e42f2963-4588-43e4-cc1d-42beaa60b474"
      },
      "execution_count": 22,
      "outputs": [
        {
          "output_type": "stream",
          "name": "stdout",
          "text": [
            "set()\n"
          ]
        }
      ]
    },
    {
      "cell_type": "code",
      "source": [
        "#Write a code to remove the element 4 from the set {1, 2, 3, 4}.\n",
        "s = {1, 2, 3, 4}\n",
        "s.remove(4)\n",
        "print(s)  # Output: {1, 2, 3}"
      ],
      "metadata": {
        "colab": {
          "base_uri": "https://localhost:8080/"
        },
        "id": "aYEJ2AH2RnX9",
        "outputId": "10fc77ed-d393-4114-d73d-bdf4ebe91e0d"
      },
      "execution_count": 23,
      "outputs": [
        {
          "output_type": "stream",
          "name": "stdout",
          "text": [
            "{1, 2, 3}\n"
          ]
        }
      ]
    },
    {
      "cell_type": "code",
      "source": [
        "#Write a code to find the union of two sets {1, 2, 3} and {3, 4, 5}.\n",
        "set1 = {1, 2, 3}\n",
        "set2 = {3, 4, 5}\n",
        "print(set1.union(set2))  # Output: {1, 2, 3, 4, 5}"
      ],
      "metadata": {
        "colab": {
          "base_uri": "https://localhost:8080/"
        },
        "id": "pUraI2LGRuFC",
        "outputId": "797daaa0-5bc2-4688-fe88-667e45ee1436"
      },
      "execution_count": 24,
      "outputs": [
        {
          "output_type": "stream",
          "name": "stdout",
          "text": [
            "{1, 2, 3, 4, 5}\n"
          ]
        }
      ]
    },
    {
      "cell_type": "code",
      "source": [
        "#Write a code to find the intersection of two sets {1, 2, 3} and {2, 3, 4}.\n",
        "set1 = {1, 2, 3}\n",
        "set2 = {2, 3, 4}\n",
        "print(set1.intersection(set2))  # Output: {2, 3}"
      ],
      "metadata": {
        "colab": {
          "base_uri": "https://localhost:8080/"
        },
        "id": "jSBVBsBLRzyw",
        "outputId": "296c81b2-72ca-4b29-cb1b-e96c1cc104ca"
      },
      "execution_count": 25,
      "outputs": [
        {
          "output_type": "stream",
          "name": "stdout",
          "text": [
            "{2, 3}\n"
          ]
        }
      ]
    },
    {
      "cell_type": "code",
      "source": [
        "#Write a code to create a dictionary with the keys \"name\", \"age\", and \"city\", and print it.\n",
        "d = {'name': 'Alice', 'age': 25, 'city': 'Paris'}\n",
        "print(d)  # Output: {'name': 'Alice', 'age': 25, 'city': 'Paris'}"
      ],
      "metadata": {
        "colab": {
          "base_uri": "https://localhost:8080/"
        },
        "id": "1MMSGF2LR6I0",
        "outputId": "d44a1455-08ae-4d8e-d21c-ff9b4b70a81f"
      },
      "execution_count": 26,
      "outputs": [
        {
          "output_type": "stream",
          "name": "stdout",
          "text": [
            "{'name': 'Alice', 'age': 25, 'city': 'Paris'}\n"
          ]
        }
      ]
    },
    {
      "cell_type": "code",
      "source": [
        "#Write a code to add a new key-value pair \"country\": \"USA\" to the dictionary {'name': 'John', 'age': 25}.\n",
        "d = {'name': 'John', 'age': 25}\n",
        "d['country'] = 'USA'\n",
        "print(d)  # Output: {'name': 'John', 'age': 25, 'country': 'USA'}"
      ],
      "metadata": {
        "colab": {
          "base_uri": "https://localhost:8080/"
        },
        "id": "HiL8nRxNR_cD",
        "outputId": "84eb4ddf-2448-44d8-c71e-3f5ba50166db"
      },
      "execution_count": 27,
      "outputs": [
        {
          "output_type": "stream",
          "name": "stdout",
          "text": [
            "{'name': 'John', 'age': 25, 'country': 'USA'}\n"
          ]
        }
      ]
    },
    {
      "cell_type": "code",
      "source": [
        "#Write a code to access the value associated with the key \"name\" in the dictionary {'name': 'Alice', 'age': 30}.\n",
        "d = {'name': 'Alice', 'age': 30}\n",
        "print(d['name'])  # Output: Alice"
      ],
      "metadata": {
        "colab": {
          "base_uri": "https://localhost:8080/"
        },
        "id": "RwevinnXSI_8",
        "outputId": "c1b6e233-8228-4339-9ad8-eb210aed369f"
      },
      "execution_count": 28,
      "outputs": [
        {
          "output_type": "stream",
          "name": "stdout",
          "text": [
            "Alice\n"
          ]
        }
      ]
    },
    {
      "cell_type": "code",
      "source": [
        "#Write a code to remove the key \"age\" from the dictionary {'name': 'Bob', 'age': 22, 'city': 'New York'}.\n",
        "d = {'name': 'Bob', 'age': 22, 'city': 'New York'}\n",
        "del d['age']\n",
        "print(d)  # Output: {'name': 'Bob', 'city': 'New York'}"
      ],
      "metadata": {
        "colab": {
          "base_uri": "https://localhost:8080/"
        },
        "id": "KFvrJLonSPOh",
        "outputId": "018bd774-c46e-4afe-f6dc-2e384cb026fe"
      },
      "execution_count": 29,
      "outputs": [
        {
          "output_type": "stream",
          "name": "stdout",
          "text": [
            "{'name': 'Bob', 'city': 'New York'}\n"
          ]
        }
      ]
    },
    {
      "cell_type": "code",
      "source": [
        "#Write a code to check if the key \"city\" exists in the dictionary {'name': 'Alice', 'city': 'Paris'}.\n",
        "d = {'name': 'Alice', 'city': 'Paris'}\n",
        "print('city' in d)  # Output: True"
      ],
      "metadata": {
        "colab": {
          "base_uri": "https://localhost:8080/"
        },
        "id": "bWfyEsl0SVMJ",
        "outputId": "3c9f8ae9-3adf-4bb2-baea-06ad5a196bc4"
      },
      "execution_count": 30,
      "outputs": [
        {
          "output_type": "stream",
          "name": "stdout",
          "text": [
            "True\n"
          ]
        }
      ]
    },
    {
      "cell_type": "code",
      "source": [
        "#Write a code to create a list, a tuple, and a dictionary, and print them all.\n",
        "lst = [1, 2, 3]\n",
        "t = (4, 5, 6)\n",
        "d = {'a': 1, 'b': 2}\n",
        "print(lst, t, d)  # Output: [1, 2, 3] (4, 5, 6) {'a': 1, 'b': 2}"
      ],
      "metadata": {
        "colab": {
          "base_uri": "https://localhost:8080/"
        },
        "id": "B6TG62fhSb6J",
        "outputId": "bee93bfe-cd29-4d88-9e85-be73f40f9b4f"
      },
      "execution_count": 31,
      "outputs": [
        {
          "output_type": "stream",
          "name": "stdout",
          "text": [
            "[1, 2, 3] (4, 5, 6) {'a': 1, 'b': 2}\n"
          ]
        }
      ]
    },
    {
      "cell_type": "code",
      "source": [
        "#Write a code to create a list of 5 random numbers between 1 and 100, sort it in ascending order, and print the result.\n",
        "import random\n",
        "lst = [random.randint(1, 100) for _ in range(5)]\n",
        "lst.sort()\n",
        "print(lst)  # Output: e.g., [23, 45, 67, 89, 92]"
      ],
      "metadata": {
        "colab": {
          "base_uri": "https://localhost:8080/"
        },
        "id": "MCMz-gVvSfSW",
        "outputId": "c95db62f-b8bd-4858-c40d-47310b617c2c"
      },
      "execution_count": 32,
      "outputs": [
        {
          "output_type": "stream",
          "name": "stdout",
          "text": [
            "[68, 78, 80, 90, 91]\n"
          ]
        }
      ]
    },
    {
      "cell_type": "code",
      "source": [
        "#Write a code to create a list with strings and print the element at the third index\n",
        "lst = ['apple', 'banana', 'orange', 'grape', 'kiwi']\n",
        "print(lst[3])  # Output: grape"
      ],
      "metadata": {
        "colab": {
          "base_uri": "https://localhost:8080/"
        },
        "id": "4zYhiY1uSlVG",
        "outputId": "3929e53c-f944-4564-8734-5f42c93247fb"
      },
      "execution_count": 33,
      "outputs": [
        {
          "output_type": "stream",
          "name": "stdout",
          "text": [
            "grape\n"
          ]
        }
      ]
    },
    {
      "cell_type": "code",
      "source": [
        "#Write a code to combine two dictionaries into one and print the result.\n",
        "dict1 = {'a': 1, 'b': 2}\n",
        "dict2 = {'c': 3, 'd': 4}\n",
        "combined = {**dict1, **dict2}\n",
        "print(combined)  # Output: {'a': 1, 'b': 2, 'c': 3, 'd': 4}"
      ],
      "metadata": {
        "colab": {
          "base_uri": "https://localhost:8080/"
        },
        "id": "69y8LOrISrqM",
        "outputId": "d74ce939-625d-4d14-bde2-3b1973621eeb"
      },
      "execution_count": 34,
      "outputs": [
        {
          "output_type": "stream",
          "name": "stdout",
          "text": [
            "{'a': 1, 'b': 2, 'c': 3, 'd': 4}\n"
          ]
        }
      ]
    },
    {
      "cell_type": "code",
      "source": [
        "#Write a code to convert a list of strings into a set.\n",
        "lst = ['apple', 'banana', 'apple', 'orange']\n",
        "s = set(lst)\n",
        "print(s)  # Output: {'apple', 'banana', 'orange'}"
      ],
      "metadata": {
        "colab": {
          "base_uri": "https://localhost:8080/"
        },
        "id": "UPrFR32oSxrS",
        "outputId": "ee686524-bb14-4c39-9da1-65b7f7e25f25"
      },
      "execution_count": 35,
      "outputs": [
        {
          "output_type": "stream",
          "name": "stdout",
          "text": [
            "{'banana', 'apple', 'orange'}\n"
          ]
        }
      ]
    }
  ]
}